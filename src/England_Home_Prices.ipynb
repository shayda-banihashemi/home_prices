{
 "cells": [
  {
   "cell_type": "code",
   "id": "initial_id",
   "metadata": {
    "collapsed": true,
    "ExecuteTime": {
     "end_time": "2025-07-03T01:43:10.705514Z",
     "start_time": "2025-07-03T01:43:10.687476Z"
    }
   },
   "source": [
    "from calendar import month\n",
    "\n",
    "import pandas as pd\n",
    "monthly = pd.read_csv('housing_in_london_monthly_variables.csv')"
   ],
   "outputs": [],
   "execution_count": 4
  },
  {
   "metadata": {
    "ExecuteTime": {
     "end_time": "2025-07-03T01:43:10.713883Z",
     "start_time": "2025-07-03T01:43:10.711460Z"
    }
   },
   "cell_type": "code",
   "source": [
    "pd.set_option('display.max_rows', None)\n",
    "pd.set_option('display.max_columns', None)\n",
    "pd.set_option('display.width', None)"
   ],
   "id": "280ee16b9c4fb515",
   "outputs": [],
   "execution_count": 5
  },
  {
   "metadata": {},
   "cell_type": "markdown",
   "source": "#### The goal is to produce average price by region for all relevant data",
   "id": "60051bc8e83a2e7a"
  },
  {
   "metadata": {},
   "cell_type": "code",
   "source": "monthly",
   "id": "1b48896cc24aa316",
   "outputs": [],
   "execution_count": null
  },
  {
   "metadata": {
    "ExecuteTime": {
     "end_time": "2025-07-03T01:43:12.367101Z",
     "start_time": "2025-07-03T01:43:12.361531Z"
    }
   },
   "cell_type": "code",
   "source": "monthly['area_code'] = monthly['code'].str[:3]",
   "id": "c4f52019c4341118",
   "outputs": [],
   "execution_count": 7
  },
  {
   "metadata": {},
   "cell_type": "code",
   "source": "monthly",
   "id": "619f2ea01c3467a0",
   "outputs": [],
   "execution_count": null
  },
  {
   "metadata": {
    "ExecuteTime": {
     "end_time": "2025-07-03T01:43:14.783748Z",
     "start_time": "2025-07-03T01:43:14.771627Z"
    }
   },
   "cell_type": "code",
   "source": "monthly.info()",
   "id": "b3c7b3d41cabfcf6",
   "outputs": [
    {
     "name": "stdout",
     "output_type": "stream",
     "text": [
      "<class 'pandas.core.frame.DataFrame'>\n",
      "RangeIndex: 13549 entries, 0 to 13548\n",
      "Data columns (total 8 columns):\n",
      " #   Column         Non-Null Count  Dtype  \n",
      "---  ------         --------------  -----  \n",
      " 0   date           13549 non-null  object \n",
      " 1   area           13549 non-null  object \n",
      " 2   average_price  13549 non-null  int64  \n",
      " 3   code           13549 non-null  object \n",
      " 4   houses_sold    13455 non-null  float64\n",
      " 5   no_of_crimes   7439 non-null   float64\n",
      " 6   borough_flag   13549 non-null  int64  \n",
      " 7   area_code      13549 non-null  object \n",
      "dtypes: float64(2), int64(2), object(4)\n",
      "memory usage: 846.9+ KB\n"
     ]
    }
   ],
   "execution_count": 9
  },
  {
   "metadata": {
    "ExecuteTime": {
     "end_time": "2025-07-03T01:43:14.917231Z",
     "start_time": "2025-07-03T01:43:14.910349Z"
    }
   },
   "cell_type": "code",
   "source": "unique_combinations = monthly[['area', 'area_code']].drop_duplicates()",
   "id": "61714e678d74dc78",
   "outputs": [],
   "execution_count": 10
  },
  {
   "metadata": {
    "ExecuteTime": {
     "end_time": "2025-07-03T01:43:14.946729Z",
     "start_time": "2025-07-03T01:43:14.938437Z"
    }
   },
   "cell_type": "code",
   "source": "unique_combinations",
   "id": "86329702dbc879ca",
   "outputs": [
    {
     "data": {
      "text/plain": [
       "                         area area_code\n",
       "0              city of london       E09\n",
       "301      barking and dagenham       E09\n",
       "602                    barnet       E09\n",
       "903                    bexley       E09\n",
       "1204                    brent       E09\n",
       "1505                  bromley       E09\n",
       "1806                   camden       E09\n",
       "2107                  croydon       E09\n",
       "2408                   ealing       E09\n",
       "2709                  enfield       E09\n",
       "2724            tower hamlets       E09\n",
       "3013                greenwich       E09\n",
       "3314                  hackney       E09\n",
       "3354                  hackney       E12\n",
       "3355               south east       E09\n",
       "3356               south east       E12\n",
       "3618   hammersmith and fulham       E09\n",
       "3919                 haringey       E09\n",
       "4220                   harrow       E09\n",
       "4521                 havering       E09\n",
       "4822               hillingdon       E09\n",
       "5123                 hounslow       E09\n",
       "5424                islington       E09\n",
       "5725   kensington and chelsea       E09\n",
       "6026     kingston upon thames       E09\n",
       "6327                  lambeth       E09\n",
       "6628                 lewisham       E09\n",
       "6929                   merton       E09\n",
       "7230                   newham       E09\n",
       "7531                redbridge       E09\n",
       "7832     richmond upon thames       E09\n",
       "8133                southwark       E09\n",
       "8434                   sutton       E09\n",
       "9035           waltham forest       E09\n",
       "9336               wandsworth       E09\n",
       "9637              westminster       E09\n",
       "9938             inner london       E13\n",
       "10239            outer london       E13\n",
       "10540              north east       E12\n",
       "10841              north west       E12\n",
       "11142    yorks and the humber       E12\n",
       "11443           east midlands       E12\n",
       "11744           west midlands       E12\n",
       "12045         east of england       E12\n",
       "12346                  london       E12\n",
       "12947              south west       E12\n",
       "13248                 england       E92"
      ],
      "text/html": [
       "<div>\n",
       "<style scoped>\n",
       "    .dataframe tbody tr th:only-of-type {\n",
       "        vertical-align: middle;\n",
       "    }\n",
       "\n",
       "    .dataframe tbody tr th {\n",
       "        vertical-align: top;\n",
       "    }\n",
       "\n",
       "    .dataframe thead th {\n",
       "        text-align: right;\n",
       "    }\n",
       "</style>\n",
       "<table border=\"1\" class=\"dataframe\">\n",
       "  <thead>\n",
       "    <tr style=\"text-align: right;\">\n",
       "      <th></th>\n",
       "      <th>area</th>\n",
       "      <th>area_code</th>\n",
       "    </tr>\n",
       "  </thead>\n",
       "  <tbody>\n",
       "    <tr>\n",
       "      <th>0</th>\n",
       "      <td>city of london</td>\n",
       "      <td>E09</td>\n",
       "    </tr>\n",
       "    <tr>\n",
       "      <th>301</th>\n",
       "      <td>barking and dagenham</td>\n",
       "      <td>E09</td>\n",
       "    </tr>\n",
       "    <tr>\n",
       "      <th>602</th>\n",
       "      <td>barnet</td>\n",
       "      <td>E09</td>\n",
       "    </tr>\n",
       "    <tr>\n",
       "      <th>903</th>\n",
       "      <td>bexley</td>\n",
       "      <td>E09</td>\n",
       "    </tr>\n",
       "    <tr>\n",
       "      <th>1204</th>\n",
       "      <td>brent</td>\n",
       "      <td>E09</td>\n",
       "    </tr>\n",
       "    <tr>\n",
       "      <th>1505</th>\n",
       "      <td>bromley</td>\n",
       "      <td>E09</td>\n",
       "    </tr>\n",
       "    <tr>\n",
       "      <th>1806</th>\n",
       "      <td>camden</td>\n",
       "      <td>E09</td>\n",
       "    </tr>\n",
       "    <tr>\n",
       "      <th>2107</th>\n",
       "      <td>croydon</td>\n",
       "      <td>E09</td>\n",
       "    </tr>\n",
       "    <tr>\n",
       "      <th>2408</th>\n",
       "      <td>ealing</td>\n",
       "      <td>E09</td>\n",
       "    </tr>\n",
       "    <tr>\n",
       "      <th>2709</th>\n",
       "      <td>enfield</td>\n",
       "      <td>E09</td>\n",
       "    </tr>\n",
       "    <tr>\n",
       "      <th>2724</th>\n",
       "      <td>tower hamlets</td>\n",
       "      <td>E09</td>\n",
       "    </tr>\n",
       "    <tr>\n",
       "      <th>3013</th>\n",
       "      <td>greenwich</td>\n",
       "      <td>E09</td>\n",
       "    </tr>\n",
       "    <tr>\n",
       "      <th>3314</th>\n",
       "      <td>hackney</td>\n",
       "      <td>E09</td>\n",
       "    </tr>\n",
       "    <tr>\n",
       "      <th>3354</th>\n",
       "      <td>hackney</td>\n",
       "      <td>E12</td>\n",
       "    </tr>\n",
       "    <tr>\n",
       "      <th>3355</th>\n",
       "      <td>south east</td>\n",
       "      <td>E09</td>\n",
       "    </tr>\n",
       "    <tr>\n",
       "      <th>3356</th>\n",
       "      <td>south east</td>\n",
       "      <td>E12</td>\n",
       "    </tr>\n",
       "    <tr>\n",
       "      <th>3618</th>\n",
       "      <td>hammersmith and fulham</td>\n",
       "      <td>E09</td>\n",
       "    </tr>\n",
       "    <tr>\n",
       "      <th>3919</th>\n",
       "      <td>haringey</td>\n",
       "      <td>E09</td>\n",
       "    </tr>\n",
       "    <tr>\n",
       "      <th>4220</th>\n",
       "      <td>harrow</td>\n",
       "      <td>E09</td>\n",
       "    </tr>\n",
       "    <tr>\n",
       "      <th>4521</th>\n",
       "      <td>havering</td>\n",
       "      <td>E09</td>\n",
       "    </tr>\n",
       "    <tr>\n",
       "      <th>4822</th>\n",
       "      <td>hillingdon</td>\n",
       "      <td>E09</td>\n",
       "    </tr>\n",
       "    <tr>\n",
       "      <th>5123</th>\n",
       "      <td>hounslow</td>\n",
       "      <td>E09</td>\n",
       "    </tr>\n",
       "    <tr>\n",
       "      <th>5424</th>\n",
       "      <td>islington</td>\n",
       "      <td>E09</td>\n",
       "    </tr>\n",
       "    <tr>\n",
       "      <th>5725</th>\n",
       "      <td>kensington and chelsea</td>\n",
       "      <td>E09</td>\n",
       "    </tr>\n",
       "    <tr>\n",
       "      <th>6026</th>\n",
       "      <td>kingston upon thames</td>\n",
       "      <td>E09</td>\n",
       "    </tr>\n",
       "    <tr>\n",
       "      <th>6327</th>\n",
       "      <td>lambeth</td>\n",
       "      <td>E09</td>\n",
       "    </tr>\n",
       "    <tr>\n",
       "      <th>6628</th>\n",
       "      <td>lewisham</td>\n",
       "      <td>E09</td>\n",
       "    </tr>\n",
       "    <tr>\n",
       "      <th>6929</th>\n",
       "      <td>merton</td>\n",
       "      <td>E09</td>\n",
       "    </tr>\n",
       "    <tr>\n",
       "      <th>7230</th>\n",
       "      <td>newham</td>\n",
       "      <td>E09</td>\n",
       "    </tr>\n",
       "    <tr>\n",
       "      <th>7531</th>\n",
       "      <td>redbridge</td>\n",
       "      <td>E09</td>\n",
       "    </tr>\n",
       "    <tr>\n",
       "      <th>7832</th>\n",
       "      <td>richmond upon thames</td>\n",
       "      <td>E09</td>\n",
       "    </tr>\n",
       "    <tr>\n",
       "      <th>8133</th>\n",
       "      <td>southwark</td>\n",
       "      <td>E09</td>\n",
       "    </tr>\n",
       "    <tr>\n",
       "      <th>8434</th>\n",
       "      <td>sutton</td>\n",
       "      <td>E09</td>\n",
       "    </tr>\n",
       "    <tr>\n",
       "      <th>9035</th>\n",
       "      <td>waltham forest</td>\n",
       "      <td>E09</td>\n",
       "    </tr>\n",
       "    <tr>\n",
       "      <th>9336</th>\n",
       "      <td>wandsworth</td>\n",
       "      <td>E09</td>\n",
       "    </tr>\n",
       "    <tr>\n",
       "      <th>9637</th>\n",
       "      <td>westminster</td>\n",
       "      <td>E09</td>\n",
       "    </tr>\n",
       "    <tr>\n",
       "      <th>9938</th>\n",
       "      <td>inner london</td>\n",
       "      <td>E13</td>\n",
       "    </tr>\n",
       "    <tr>\n",
       "      <th>10239</th>\n",
       "      <td>outer london</td>\n",
       "      <td>E13</td>\n",
       "    </tr>\n",
       "    <tr>\n",
       "      <th>10540</th>\n",
       "      <td>north east</td>\n",
       "      <td>E12</td>\n",
       "    </tr>\n",
       "    <tr>\n",
       "      <th>10841</th>\n",
       "      <td>north west</td>\n",
       "      <td>E12</td>\n",
       "    </tr>\n",
       "    <tr>\n",
       "      <th>11142</th>\n",
       "      <td>yorks and the humber</td>\n",
       "      <td>E12</td>\n",
       "    </tr>\n",
       "    <tr>\n",
       "      <th>11443</th>\n",
       "      <td>east midlands</td>\n",
       "      <td>E12</td>\n",
       "    </tr>\n",
       "    <tr>\n",
       "      <th>11744</th>\n",
       "      <td>west midlands</td>\n",
       "      <td>E12</td>\n",
       "    </tr>\n",
       "    <tr>\n",
       "      <th>12045</th>\n",
       "      <td>east of england</td>\n",
       "      <td>E12</td>\n",
       "    </tr>\n",
       "    <tr>\n",
       "      <th>12346</th>\n",
       "      <td>london</td>\n",
       "      <td>E12</td>\n",
       "    </tr>\n",
       "    <tr>\n",
       "      <th>12947</th>\n",
       "      <td>south west</td>\n",
       "      <td>E12</td>\n",
       "    </tr>\n",
       "    <tr>\n",
       "      <th>13248</th>\n",
       "      <td>england</td>\n",
       "      <td>E92</td>\n",
       "    </tr>\n",
       "  </tbody>\n",
       "</table>\n",
       "</div>"
      ]
     },
     "execution_count": 11,
     "metadata": {},
     "output_type": "execute_result"
    }
   ],
   "execution_count": 11
  },
  {
   "metadata": {
    "ExecuteTime": {
     "end_time": "2025-07-03T01:43:15.000670Z",
     "start_time": "2025-07-03T01:43:14.989193Z"
    }
   },
   "cell_type": "code",
   "source": [
    "monthly = monthly[monthly['borough_flag']!= 1]\n",
    "areas_to_include = ['E12']\n",
    "monthly = monthly[monthly['area_code'].isin(areas_to_include)]"
   ],
   "id": "55e6bd6667cd5743",
   "outputs": [],
   "execution_count": 12
  },
  {
   "metadata": {},
   "cell_type": "code",
   "source": "monthly",
   "id": "8baf463f65879422",
   "outputs": [],
   "execution_count": null
  },
  {
   "metadata": {
    "ExecuteTime": {
     "end_time": "2025-07-03T01:43:15.863983Z",
     "start_time": "2025-07-03T01:43:15.856964Z"
    }
   },
   "cell_type": "code",
   "source": "areas = monthly.groupby('area')['average_price'].mean()",
   "id": "2f943daeaf496713",
   "outputs": [],
   "execution_count": 14
  },
  {
   "metadata": {
    "ExecuteTime": {
     "end_time": "2025-07-03T01:43:16.348022Z",
     "start_time": "2025-07-03T01:43:16.340583Z"
    }
   },
   "cell_type": "code",
   "source": "areas",
   "id": "c399c680c8da8420",
   "outputs": [
    {
     "data": {
      "text/plain": [
       "area\n",
       "east midlands           121649.890365\n",
       "east of england         171182.229236\n",
       "london                  265517.425249\n",
       "north east               97041.076412\n",
       "north west              108789.574751\n",
       "south east              196442.129568\n",
       "south west              163353.252492\n",
       "west midlands           127102.840532\n",
       "yorks and the humber    109112.677741\n",
       "Name: average_price, dtype: float64"
      ]
     },
     "execution_count": 15,
     "metadata": {},
     "output_type": "execute_result"
    }
   ],
   "execution_count": 15
  },
  {
   "metadata": {
    "ExecuteTime": {
     "end_time": "2025-07-03T01:43:47.710639Z",
     "start_time": "2025-07-03T01:43:43.968355Z"
    }
   },
   "cell_type": "code",
   "source": "areas.plot(kind='bar')",
   "id": "4b886f2441575b7d",
   "outputs": [
    {
     "data": {
      "text/plain": [
       "<Axes: xlabel='area'>"
      ]
     },
     "execution_count": 17,
     "metadata": {},
     "output_type": "execute_result"
    },
    {
     "data": {
      "text/plain": [
       "<Figure size 640x480 with 1 Axes>"
      ],
      "image/png": "[encoded data removed]"
     },
     "metadata": {},
     "output_type": "display_data"
    }
   ],
   "execution_count": 17
  }
 ],
 "metadata": {
  "kernelspec": {
   "display_name": "Python 3",
   "language": "python",
   "name": "python3"
  },
  "language_info": {
   "codemirror_mode": {
    "name": "ipython",
    "version": 2
   },
   "file_extension": ".py",
   "mimetype": "text/x-python",
   "name": "python",
   "nbconvert_exporter": "python",
   "pygments_lexer": "ipython2",
   "version": "2.7.6"
  }
 },
 "nbformat": 4,
 "nbformat_minor": 5
}
